{
  "nbformat": 4,
  "nbformat_minor": 0,
  "metadata": {
    "colab": {
      "name": "CNR_Stock_Predictor_V1_00.ipynb",
      "provenance": [],
      "include_colab_link": true
    },
    "kernelspec": {
      "name": "python3",
      "display_name": "Python 3"
    }
  },
  "cells": [
    {
      "cell_type": "markdown",
      "metadata": {
        "id": "view-in-github",
        "colab_type": "text"
      },
      "source": [
        "<a href=\"https://colab.research.google.com/github/razibmustafiz/examples/blob/master/CNR_Stock_Predictor_V1_00.ipynb\" target=\"_parent\"><img src=\"https://colab.research.google.com/assets/colab-badge.svg\" alt=\"Open In Colab\"/></a>"
      ]
    },
    {
      "cell_type": "code",
      "metadata": {
        "id": "LKSE8M-g1xMH",
        "colab_type": "code",
        "outputId": "e11ddc38-c4c8-4a9e-b49f-37e3942aad5d",
        "colab": {
          "base_uri": "https://localhost:8080/",
          "height": 119
        }
      },
      "source": [
        "import urllib.request\n",
        "import json\n",
        "\n",
        "x_date = (input(\"Enter Date:\"))\n",
        "x_open = (input(\"Enter Opening Value:\"))\n",
        "x_high = (input(\"Enter High Value:\"))\n",
        "x_low = (input(\"Enter Low Value:\"))\n",
        "x_volume = (input(\"Enter Volume:\"))\n",
        "\n",
        "\n",
        "\n",
        "data = {\n",
        "        \"Inputs\": {\n",
        "                \"input1\":\n",
        "                [\n",
        "                    {\n",
        "                            'Date': (x_date), \n",
        "                            'Open': (x_open),   \n",
        "                            'High': (x_high),   \n",
        "                            'Low': (x_low),   \n",
        "                            'Volume': (x_volume),   \n",
        "                            'Close': \"1\",   \n",
        "                    }\n",
        "                ],\n",
        "        },\n",
        "    \"GlobalParameters\":  {\n",
        "        'Random seed': \"0\",\n",
        "    }\n",
        "}\n",
        "\n",
        "body = str.encode(json.dumps(data))\n",
        "\n",
        "url = 'https://ussouthcentral.services.azureml.net/workspaces/fd00865d651342a19097f59644988f95/services/764fb9ca89f746899865664084d427f9/execute?api-version=2.0&format=swagger'\n",
        "api_key = 'mbyAX0k6OtZzpxAVATJcEaqphElGTsDsvsoU7bvHSbwehm5NP+BsxvrhqsW3mDWwDOJeT2dplLu7/YQNuSBabA==' # Replace this with the API key for the web service\n",
        "headers = {'Content-Type':'application/json', 'Authorization':('Bearer '+ api_key)}\n",
        "\n",
        "req = urllib.request.Request(url, body, headers)\n",
        "\n",
        "try:\n",
        "    response = urllib.request.urlopen(req)\n",
        "\n",
        "    result = response.read()\n",
        "    print(result)\n",
        "except urllib.error.HTTPError as error:\n",
        "    print(\"The request failed with status code: \" + str(error.code))\n",
        "\n",
        "    # Print the headers - they include the requert ID and the timestamp, which are useful for debugging the failure\n",
        "    print(error.info())\n",
        "    print(json.loads(error.read().decode(\"utf8\", 'ignore')))"
      ],
      "execution_count": 0,
      "outputs": [
        {
          "output_type": "stream",
          "text": [
            "Enter Date:01\n",
            "Enter Opening Value:2\n",
            "Enter High Value:3\n",
            "Enter Low Value:4\n",
            "Enter Volume:34567890\n",
            "b'{\"Results\":{\"output1\":[{\"Scored Label Mean\":\"8.93142857142857\"}]}}'\n"
          ],
          "name": "stdout"
        }
      ]
    }
  ]
}